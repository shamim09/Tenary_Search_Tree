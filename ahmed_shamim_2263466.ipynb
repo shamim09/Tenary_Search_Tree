{
 "cells": [
  {
   "cell_type": "markdown",
   "id": "ba0f2afb-5d42-438b-86fc-03a36651e3df",
   "metadata": {},
   "source": [
    "A ternary search tree has nodes with the following attributes:\n",
    "* a character, can be `None`;\n",
    "* a Boolean flag that indicates whether the character represented\n",
    "  by this node has been the last in a string that was inserted in the\n",
    "  tree;\n",
    "* the \"less-than\" child;\n",
    "* the \"equals\" child and\n",
    "* the \"larger-than\" child.\n",
    "\n",
    "The data structure should support the following operations:\n",
    "* string insert\n",
    "* string search\n",
    "* prefix string search\n",
    "* return the number of strings stored in the data structure\n",
    "* return all strings stored in the data structure\n",
    "\n",
    "Also ensure that an instance of the data structure can be visualy represented, e.g., in aSCII format."
   ]
  },
  {
   "cell_type": "markdown",
   "id": "e24e0d90-56fa-4aed-a031-bb252cf55300",
   "metadata": {},
   "source": [
    "# Implementation"
   ]
  },
  {
   "cell_type": "code",
   "execution_count": 1,
   "id": "2e38f69e-5b57-4ae7-85ce-c1f65d6d3673",
   "metadata": {},
   "outputs": [],
   "source": [
    "%load_ext autoreload\n",
    "%autoreload 2"
   ]
  },
  {
   "cell_type": "markdown",
   "id": "c4e0a12a-37c0-4ed0-8bd3-225764f59f4c",
   "metadata": {},
   "source": [
    "The data structure has been implemented as a class."
   ]
  },
  {
   "cell_type": "code",
   "execution_count": 2,
   "id": "63f8d683-29d5-4e4d-bff8-d9264f5a18aa",
   "metadata": {
    "tags": []
   },
   "outputs": [],
   "source": [
    "class TSTNode:\n",
    "    def __init__(self, char):\n",
    "        self.char = char\n",
    "        self.last_char_in_string = False\n",
    "        self.less_than = None\n",
    "        self.equals = None\n",
    "        self.larger_than = None\n",
    "\n",
    "    def _insert(self, string):\n",
    "        char = string[0]\n",
    "\n",
    "        if char < self.char:\n",
    "            if self.less_than is None:\n",
    "                self.less_than = TSTNode(char)\n",
    "            self.less_than._insert(string)\n",
    "        elif char > self.char:\n",
    "            if self.larger_than is None:\n",
    "                self.larger_than = TSTNode(char)\n",
    "            self.larger_than._insert(string)\n",
    "        elif len(string) > 1:\n",
    "            if self.equals is None:\n",
    "                self.equals = TSTNode(string[1])\n",
    "            self.equals._insert(string[1:])\n",
    "        else:\n",
    "            self.last_char_in_string = True\n",
    "\n",
    "    def _search(self, string):\n",
    "        char = string[0]\n",
    "\n",
    "        if char < self.char:\n",
    "            return self.less_than._search(string) if self.less_than else False\n",
    "        elif char > self.char:\n",
    "            return self.larger_than._search(string) if self.larger_than else False\n",
    "        elif len(string) > 1:\n",
    "            return self.equals._search(string[1:]) if self.equals else False\n",
    "        else:\n",
    "            return self.last_char_in_string\n",
    "\n",
    "    def _all_strings(self, prefix=\"\"):\n",
    "        strings = []\n",
    "        if self.last_char_in_string:\n",
    "            strings.append(prefix + self.char)\n",
    "        if self.less_than:\n",
    "            strings.extend(self.less_than._all_strings(prefix))\n",
    "        if self.equals:\n",
    "            strings.extend(self.equals._all_strings(prefix + self.char))\n",
    "        if self.larger_than:\n",
    "            strings.extend(self.larger_than._all_strings(prefix))\n",
    "        return strings\n",
    "\n",
    "    def __len__(self):\n",
    "        length = 1 if self.last_char_in_string else 0\n",
    "        if self.less_than:\n",
    "            length += len(self.less_than)\n",
    "        if self.equals:\n",
    "            length += len(self.equals)\n",
    "        if self.larger_than:\n",
    "            length += len(self.larger_than)\n",
    "        return length\n",
    "\n",
    "    def _to_string(self, indent=''):\n",
    "        repr_str = indent + repr(self.char) + (\"*\" if self.last_char_in_string else \"\")\n",
    "        if self.equals:\n",
    "            repr_str += '\\n' + self.equals._to_string(indent + '  ')\n",
    "        if self.less_than:\n",
    "            repr_str += '\\n' + self.less_than._to_string(indent + '  ')\n",
    "        if self.larger_than:\n",
    "            repr_str += '\\n' + self.larger_than._to_string(indent + '  ')\n",
    "        return repr_str\n",
    "\n"
   ]
  },
  {
   "cell_type": "code",
   "execution_count": 3,
   "id": "c7126841",
   "metadata": {},
   "outputs": [],
   "source": [
    "class TernarySearchTree:\n",
    "    def __init__(self):\n",
    "        self.root = None\n",
    "\n",
    "    def insert(self, string):\n",
    "        if not self.root:\n",
    "            self.root = TSTNode(string[0])\n",
    "        self.root._insert(string)\n",
    "\n",
    "    def search(self, string):\n",
    "        return self.root._search(string) if self.root else False\n",
    "\n",
    "    def prefix_search(self, prefix):\n",
    "        results = []\n",
    "        if not prefix:  # Check if prefix is empty\n",
    "            node = self.root\n",
    "        else:\n",
    "            node = self._search_prefix_node(self.root, prefix, 0)\n",
    "        if node:\n",
    "            self._collect_strings(node, prefix, results)\n",
    "        return results\n",
    "\n",
    "    def _search_prefix_node(self, node, prefix, index):\n",
    "            if not node:\n",
    "                return None\n",
    "\n",
    "            char = prefix[index]\n",
    "            if char < node.char:\n",
    "                return self._search_prefix_node(node.less_than, prefix, index)\n",
    "            elif char > node.char:\n",
    "                return self._search_prefix_node(node.larger_than, prefix, index)\n",
    "            elif index < len(prefix) - 1:\n",
    "                return self._search_prefix_node(node.equals, prefix, index + 1)\n",
    "            else:\n",
    "                return node\n",
    "\n",
    "    def _collect_strings(self, node, prefix, results):\n",
    "        if node.last_char_in_string:\n",
    "            results.append(prefix + node.char)\n",
    "\n",
    "        if node.less_than:\n",
    "            self._collect_strings(node.less_than, prefix, results)\n",
    "        if node.equals:\n",
    "            self._collect_strings(node.equals, prefix + node.char, results)\n",
    "        if node.larger_than:\n",
    "            self._collect_strings(node.larger_than, prefix, results)\n",
    "\n",
    "    def count_strings(self):\n",
    "        return len(self)  # Uses the __len__ method\n",
    "\n",
    "    def all_strings(self):\n",
    "        return self.prefix_search(\"\")\n",
    "\n",
    "    def __len__(self):\n",
    "        return len(self.root) if self.root else 0\n",
    "\n",
    "    def __repr__(self):\n",
    "        return self.root._to_string() if self.root else 'empty tree'"
   ]
  },
  {
   "cell_type": "markdown",
   "id": "29c9a229-e99c-4db0-afff-8623495b0d0f",
   "metadata": {
    "tags": []
   },
   "source": [
    "# Example usage"
   ]
  },
  {
   "cell_type": "markdown",
   "id": "0df14272-c232-49cf-bacb-bdfe92d1801e",
   "metadata": {},
   "source": [
    "Create a new empty ternery search tree."
   ]
  },
  {
   "cell_type": "code",
   "execution_count": 4,
   "id": "1497b163-80f4-4615-9b96-de0d0d94bab4",
   "metadata": {
    "tags": []
   },
   "outputs": [],
   "source": [
    "tst = TernarySearchTree()"
   ]
  },
  {
   "cell_type": "markdown",
   "id": "0f4fab8f-f1f8-4e90-b533-ceec45b60dcb",
   "metadata": {},
   "source": [
    "Insert the string into the tree."
   ]
  },
  {
   "cell_type": "code",
   "execution_count": 5,
   "id": "3b159de7-9668-4814-9d52-92ddd95736c8",
   "metadata": {
    "tags": []
   },
   "outputs": [],
   "source": [
    "tst.insert('appple')\n",
    "tst.insert('banana')"
   ]
  },
  {
   "cell_type": "code",
   "execution_count": 6,
   "id": "a6a40c5d-e3e4-4104-ab0a-308a4ccdb5e1",
   "metadata": {
    "tags": []
   },
   "outputs": [
    {
     "name": "stdout",
     "output_type": "stream",
     "text": [
      "'a'\n",
      "  'p'\n",
      "    'p'\n",
      "      'p'\n",
      "        'l'\n",
      "          'e'*\n",
      "  'b'\n",
      "    'a'\n",
      "      'n'\n",
      "        'a'\n",
      "          'n'\n",
      "            'a'*\n"
     ]
    }
   ],
   "source": [
    "print(tst)"
   ]
  },
  {
   "cell_type": "markdown",
   "id": "d3b133d1-b878-4e57-a2c9-17c44ba186cb",
   "metadata": {},
   "source": [
    "The tree should now contain two strings."
   ]
  },
  {
   "cell_type": "code",
   "execution_count": 7,
   "id": "45c03393-62ad-43e1-8667-5847d338d740",
   "metadata": {
    "tags": []
   },
   "outputs": [
    {
     "name": "stdout",
     "output_type": "stream",
     "text": [
      "2\n"
     ]
    }
   ],
   "source": [
    "print(len(tst))"
   ]
  },
  {
   "cell_type": "code",
   "execution_count": 8,
   "id": "1713d80e-e2e1-42b7-b1e0-cdc70aec6ceb",
   "metadata": {},
   "outputs": [
    {
     "name": "stdout",
     "output_type": "stream",
     "text": [
      "['appple', 'banana']\n"
     ]
    }
   ],
   "source": [
    "print(tst.all_strings())"
   ]
  },
  {
   "cell_type": "markdown",
   "id": "7350133c-1484-485f-a8dc-1cac2c462ec7",
   "metadata": {},
   "source": [
    "Search for the string `'ba'`, it should be found since it is a prefix of `'banana'`."
   ]
  },
  {
   "cell_type": "code",
   "execution_count": 9,
   "id": "ddd71cf3-f887-4939-bae7-4a1c0a85a9e2",
   "metadata": {
    "tags": []
   },
   "outputs": [
    {
     "name": "stdout",
     "output_type": "stream",
     "text": [
      "['baanana']\n"
     ]
    }
   ],
   "source": [
    "print(tst.prefix_search('ba'))"
   ]
  },
  {
   "cell_type": "markdown",
   "id": "45443693-ae5a-4584-bab2-7c20e8331dcc",
   "metadata": {},
   "source": [
    "The string `'ac'` should not be found."
   ]
  },
  {
   "cell_type": "code",
   "execution_count": 10,
   "id": "3756d5c9-0286-463a-8962-a0878ec067e2",
   "metadata": {
    "tags": []
   },
   "outputs": [
    {
     "name": "stdout",
     "output_type": "stream",
     "text": [
      "[]\n"
     ]
    }
   ],
   "source": [
    "print(tst.prefix_search('ac'))"
   ]
  },
  {
   "cell_type": "code",
   "execution_count": 11,
   "id": "b94f344b-2c62-4b75-95e0-d79f609072fd",
   "metadata": {
    "tags": []
   },
   "outputs": [
    {
     "name": "stdout",
     "output_type": "stream",
     "text": [
      "2\n"
     ]
    }
   ],
   "source": [
    "print(len(tst))"
   ]
  },
  {
   "cell_type": "code",
   "execution_count": 12,
   "id": "be2221c7-57af-449c-b235-4b9257b98229",
   "metadata": {
    "tags": []
   },
   "outputs": [
    {
     "name": "stdout",
     "output_type": "stream",
     "text": [
      "'a'\n",
      "  'p'\n",
      "    'p'\n",
      "      'p'\n",
      "        'l'\n",
      "          'e'*\n",
      "  'b'\n",
      "    'a'\n",
      "      'n'\n",
      "        'a'\n",
      "          'n'\n",
      "            'a'*\n"
     ]
    }
   ],
   "source": [
    "print(tst)"
   ]
  },
  {
   "cell_type": "code",
   "execution_count": 13,
   "id": "024e8ed2-b336-4234-8131-cd695864cf9f",
   "metadata": {},
   "outputs": [
    {
     "name": "stdout",
     "output_type": "stream",
     "text": [
      "['appple', 'banana']\n"
     ]
    }
   ],
   "source": [
    "print(tst.all_strings())"
   ]
  },
  {
   "cell_type": "markdown",
   "id": "1fee5f92-87e7-4ddb-b6e0-9001d4084faf",
   "metadata": {},
   "source": [
    "# Testing"
   ]
  },
  {
   "cell_type": "markdown",
   "id": "0f641fa7-aaf7-406e-813b-4a84645ca2fb",
   "metadata": {},
   "source": [
    "The file `data/search_trees/insert_words.txt` contains words that we can insert into a tree."
   ]
  },
  {
   "cell_type": "code",
   "execution_count": 17,
   "id": "19431f68-eafd-4e62-a410-06a7c7ec4168",
   "metadata": {
    "tags": []
   },
   "outputs": [],
   "source": [
    "tst = TernarySearchTree()\n",
    "with open('/Users/Admin/Downloads/project/data/search_trees/insert_words.txt') as file:\n",
    "    words = [\n",
    "        line.strip() for line in file\n",
    "    ]\n",
    "for word in words:\n",
    "    tst.insert(word)\n",
    "unique_words = set(words)"
   ]
  },
  {
   "cell_type": "markdown",
   "id": "09ff039a-3780-4ef8-bed7-e6da0715800a",
   "metadata": {},
   "source": [
    "Verify the length of the data stucture."
   ]
  },
  {
   "cell_type": "code",
   "execution_count": 18,
   "id": "18090742-7a3a-400a-a077-e2904901a123",
   "metadata": {
    "tags": []
   },
   "outputs": [],
   "source": [
    "assert len(tst) == len(unique_words), \\\n",
    "       f'{len(tst)} in tree, expected {len(unique_words)}'"
   ]
  },
  {
   "cell_type": "markdown",
   "id": "3715acd0-09b0-4d1d-9b1b-c33c7cca6ec9",
   "metadata": {},
   "source": [
    "Verify that all words that were inserted can be found."
   ]
  },
  {
   "cell_type": "code",
   "execution_count": 19,
   "id": "83fd3f2d-13ef-4cf9-9631-2f7550939efb",
   "metadata": {
    "tags": []
   },
   "outputs": [],
   "source": [
    "for word in unique_words:\n",
    "    assert tst.search(word), f'{word} not found'"
   ]
  },
  {
   "cell_type": "markdown",
   "id": "914240b6-1980-4436-9596-991258aac0d1",
   "metadata": {},
   "source": [
    "Verify that all prefixes can be found."
   ]
  },
  {
   "cell_type": "code",
   "execution_count": 20,
   "id": "7b320bc5-d544-4aa2-82f7-549eef526757",
   "metadata": {
    "tags": []
   },
   "outputs": [],
   "source": [
    "for word in unique_words:\n",
    "    for i in range(len(word) - 1, 0, -1):\n",
    "        prefix = word[:i]\n",
    "        assert tst.prefix_search(prefix), f'{prefix} not found'"
   ]
  },
  {
   "cell_type": "markdown",
   "id": "5e67261a-0260-451c-b975-5406458b7fc9",
   "metadata": {},
   "source": [
    "Chack that when searching for a exact match, only the inserted words are found, and no prefixes."
   ]
  },
  {
   "cell_type": "code",
   "execution_count": 21,
   "id": "c15f2bf1-e026-468d-86f1-b7bf7d4857a0",
   "metadata": {
    "tags": []
   },
   "outputs": [],
   "source": [
    "for word in unique_words:\n",
    "    for i in range(len(word), 0, -1):\n",
    "        prefix = word[:i]\n",
    "        if prefix not in unique_words:\n",
    "            assert not tst.search(prefix), \\\n",
    "                   f'{prefix} found'"
   ]
  },
  {
   "cell_type": "markdown",
   "id": "122ef82d-a23d-4245-899f-b070e0b13b0a",
   "metadata": {},
   "source": [
    "Check that words in the file `data/search_trees/not_insert_words.txt` can not be found in the tree."
   ]
  },
  {
   "cell_type": "code",
   "execution_count": 22,
   "id": "90ea39d5-5c96-4e79-8dc8-80c55de1cea2",
   "metadata": {
    "tags": []
   },
   "outputs": [],
   "source": [
    "with open('/Users/Admin/Downloads/project/data/search_trees/not_insert_words.txt') as file:\n",
    "    for line in file:\n",
    "        word = line.strip()\n",
    "        assert not tst.search(word), f'{word} should not be found'"
   ]
  },
  {
   "cell_type": "markdown",
   "id": "bc93c3f1-a829-484c-a11d-d598914c3b8f",
   "metadata": {},
   "source": [
    "Check that all strings are returned."
   ]
  },
  {
   "cell_type": "code",
   "execution_count": 23,
   "id": "c09d0cab-02db-452e-8ac1-837e108ab63d",
   "metadata": {},
   "outputs": [],
   "source": [
    "all_strings = tst.all_strings()\n",
    "assert len(all_strings) == len(unique_words), \\\n",
    "       f'{len(all_strings)} words, expected {len(unique_words)}'\n",
    "assert sorted(all_strings) == sorted(unique_words), 'words do not match'"
   ]
  },
  {
   "cell_type": "markdown",
   "id": "4243d5d6-60d5-4f1b-857b-f26a4b1216a1",
   "metadata": {},
   "source": [
    "If not output was generated, all tests have passed."
   ]
  },
  {
   "cell_type": "code",
   "execution_count": 24,
   "id": "5aef19ef",
   "metadata": {},
   "outputs": [
    {
     "name": "stdout",
     "output_type": "stream",
     "text": [
      "Prefix search results: []\n",
      "All tests passed!\n"
     ]
    }
   ],
   "source": [
    "# Test prefix string search\n",
    "prefix_results = tst.prefix_search(\"app\")\n",
    "print(\"Prefix search results:\", prefix_results)\n",
    "assert \"banana\" not in prefix_results\n",
    "assert \"apricot\" not in prefix_results\n",
    "\n",
    "# Print success message if all tests pass\n",
    "print(\"All tests passed!\")"
   ]
  },
  {
   "cell_type": "markdown",
   "id": "f8575ea5",
   "metadata": {},
   "source": [
    "# Performance"
   ]
  },
  {
   "cell_type": "markdown",
   "id": "9307e161",
   "metadata": {},
   "source": [
    "Benchmark the scaling behaviour of the implementation"
   ]
  },
  {
   "cell_type": "code",
   "execution_count": 25,
   "id": "9ed44460",
   "metadata": {},
   "outputs": [],
   "source": [
    "with open('/Users/Admin/Downloads/project/data/search_trees/corncob_lowercase.txt') as file:\n",
    "    words = [line.strip() for line in file]"
   ]
  },
  {
   "cell_type": "markdown",
   "id": "ea8e37a5",
   "metadata": {},
   "source": [
    "To assess the performance, i.e., the time it takes to insert a new string or search the ternary tree as a function of the tree's size, we need a large dataset.  This is provided in `data/search_trees/corncob_lowercase.txt`.  This file contains over 58,000 English words, all lower case."
   ]
  },
  {
   "cell_type": "code",
   "execution_count": 26,
   "id": "92076400",
   "metadata": {},
   "outputs": [
    {
     "name": "stdout",
     "output_type": "stream",
     "text": [
      "58110\n"
     ]
    }
   ],
   "source": [
    "print(len(words))"
   ]
  },
  {
   "cell_type": "code",
   "execution_count": 27,
   "id": "2cd8d446",
   "metadata": {},
   "outputs": [
    {
     "data": {
      "text/plain": [
       "['aardvark',\n",
       " 'aardwolf',\n",
       " 'aaron',\n",
       " 'aback',\n",
       " 'abacus',\n",
       " 'abaft',\n",
       " 'abalone',\n",
       " 'abandon',\n",
       " 'abandoned',\n",
       " 'abandonment',\n",
       " 'abandons',\n",
       " 'abase',\n",
       " 'abased',\n",
       " 'abasement',\n",
       " 'abash',\n",
       " 'abashed',\n",
       " 'abate',\n",
       " 'abated',\n",
       " 'abatement',\n",
       " 'abates']"
      ]
     },
     "execution_count": 27,
     "metadata": {},
     "output_type": "execute_result"
    }
   ],
   "source": [
    "words[:20]"
   ]
  },
  {
   "cell_type": "markdown",
   "id": "bbe67d1f",
   "metadata": {},
   "source": [
    "We will select random samples of increasing sizes from the list."
   ]
  },
  {
   "cell_type": "code",
   "execution_count": 28,
   "id": "a7dda18e",
   "metadata": {},
   "outputs": [],
   "source": [
    "import random\n",
    "import time\n",
    "import matplotlib.pyplot as plt"
   ]
  },
  {
   "cell_type": "code",
   "execution_count": 29,
   "id": "e3aa0a72",
   "metadata": {},
   "outputs": [],
   "source": [
    "sample_size = 400\n",
    "reduced_words = random.sample(words, k=sample_size)\n",
    "\n",
    "sizes = [50,100,200,300]\n",
    "samples = [\n",
    "    random.sample(reduced_words, k=size) for size in sizes\n",
    "]"
   ]
  },
  {
   "cell_type": "markdown",
   "id": "6db7fc79",
   "metadata": {},
   "source": [
    "To measure the insertion time of words into a ternary search tree for different sample sizes. By varying the sample sizes, you can analyze how the performance of the ternary search tree changes as the number of words being inserted increases. This allows you to understand how efficiently the tree structure handles larger datasets and how insertion time scales with the size of the dataset. "
   ]
  },
  {
   "cell_type": "code",
   "execution_count": 31,
   "id": "f529b065",
   "metadata": {},
   "outputs": [
    {
     "name": "stdout",
     "output_type": "stream",
     "text": [
      "{1: 214.7349, 2: 519.47115, 3: 1009.86155, 4: 524.4728, 5: 1225.2953}\n"
     ]
    }
   ],
   "source": [
    "import time\n",
    "import random\n",
    "\n",
    "nr_runs = 2  # Number of runs for more accurate measurements\n",
    "times = {}\n",
    "insert_sample = random.sample(words, k=5)  \n",
    "\n",
    "for sample_size in range(1, 6):  \n",
    "    tst = TernarySearchTree()\n",
    "    sample = random.sample(words, k=sample_size)\n",
    "    \n",
    "    for word in sample:\n",
    "        tst.insert(word) \n",
    "    \n",
    "    times[sample_size] = 0.0\n",
    "    for _ in range(nr_runs):\n",
    "        start_time = time.time_ns()\n",
    "        for word in insert_sample:\n",
    "            tst.insert(word)  \n",
    "        end_time = time.time_ns()\n",
    "        times[sample_size] += end_time - start_time\n",
    "    \n",
    "    times[sample_size] /= nr_runs * 1000000.0  # Convert to milliseconds\n",
    "\n",
    "print(times)\n"
   ]
  },
  {
   "cell_type": "code",
   "execution_count": 30,
   "id": "d3f0f878",
   "metadata": {},
   "outputs": [
    {
     "data": {
      "image/png": "[encoded data removed]",
      "text/plain": [
       "<Figure size 432x288 with 1 Axes>"
      ]
     },
     "metadata": {
      "needs_background": "light"
     },
     "output_type": "display_data"
    }
   ],
   "source": [
    "plt.plot(times.keys(), times.values());"
   ]
  },
  {
   "cell_type": "markdown",
   "id": "7446517e",
   "metadata": {},
   "source": [
    "This code is to measure the insertion time of words into a ternary search tree for different sample sizes. By varying the sample sizes, you can analyze how the performance of the ternary search tree changes as the number of words being inserted increases. This allows you to understand how efficiently the tree structure handles larger datasets and how insertion time scales with the size of the dataset. The resulting plot visually demonstrates the relationship between sample size and insertion time."
   ]
  },
  {
   "cell_type": "markdown",
   "id": "317c77ef",
   "metadata": {},
   "source": [
    "We can do the same for searching words in a T-tree of various sizes."
   ]
  },
  {
   "cell_type": "code",
   "execution_count": 39,
   "id": "8f17d9e5",
   "metadata": {},
   "outputs": [
    {
     "name": "stdout",
     "output_type": "stream",
     "text": [
      "{5: 65.3418}\n"
     ]
    }
   ],
   "source": [
    "nr_runs = 2\n",
    "times = {}\n",
    "  \n",
    "search_sample = random.sample(words, k=5)\n",
    "for sample_size in samples:  \n",
    "    tst = TernarySearchTree()\n",
    "    for word in sample:\n",
    "        tst.insert(word)\n",
    "    times[len(sample)] = 0.0\n",
    "    \n",
    "    for _ in range(nr_runs):\n",
    "        start_time = time.time_ns()\n",
    "        for word in search_sample:\n",
    "            tst.search(word)  \n",
    "        end_time = time.time_ns()\n",
    "        times[len(sample)] += end_time - start_time\n",
    "    \n",
    "    times[len(sample)] /= nr_runs * 1_000_000.0  # Convert to milliseconds\n",
    "\n",
    "print(times)\n"
   ]
  },
  {
   "cell_type": "markdown",
   "id": "d4aa37d1",
   "metadata": {},
   "source": [
    "# Discussion  of the expected complexity "
   ]
  },
  {
   "cell_type": "markdown",
   "id": "9d9f35b5",
   "metadata": {},
   "source": [
    "The insertion operation in a Ternary Search Tree involves recursively traversing the tree to find the appropriate position for the new string. If the current node doesn't exist, it's created. This operation has a time complexity \n",
    "\n",
    "similary The search operation in a TST also involves traversing the tree in a manner similar to insertion. The search either finds the target string or reaches a null node if the string is not present. Just like insertion, the time complexity of search is also O(H).If the TST is well-balanced,operations like insertion and search will be efficient, with a time complexity of O(log N) where N is the number of distinct strings.\n",
    "\n",
    "The all_strings operation, which involves visiting all nodes in the tree, will have a time complexity of O(M), where M is the total number of characters across all strings. This operation can be relatively slow if there are a large number of strings with many characters."
   ]
  }
 ],
 "metadata": {
  "kernelspec": {
   "display_name": "Python 3 (ipykernel)",
   "language": "python",
   "name": "python3"
  },
  "language_info": {
   "codemirror_mode": {
    "name": "ipython",
    "version": 3
   },
   "file_extension": ".py",
   "mimetype": "text/x-python",
   "name": "python",
   "nbconvert_exporter": "python",
   "pygments_lexer": "ipython3",
   "version": "3.9.7"
  }
 },
 "nbformat": 4,
 "nbformat_minor": 5
}
